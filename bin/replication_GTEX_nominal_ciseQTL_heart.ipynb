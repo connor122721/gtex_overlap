{
 "cells": [
  {
   "cell_type": "code",
   "execution_count": null,
   "id": "c8ef53e5-01da-497d-81a2-9c58acdd21d2",
   "metadata": {
    "tags": []
   },
   "outputs": [],
   "source": [
    "# Connor Murray\n",
    "# Started 12.1.2024; modified 2-,4-2025\n",
    "# Analyzing overlap of disease eQTLs and GTEx across tissue types\n",
    "\n",
    "# Import libraries\n",
    "import os\n",
    "import pandas as pd\n",
    "import pyarrow.parquet as pq\n",
    "import numpy as np\n",
    "import pyreadr as pr\n",
    "\n",
    "# Working directory\n",
    "os.chdir(\"/standard/vol185/cphg_Manichaikul/users/csm6hg\")\n",
    "\n",
    "# GTEx eQTLs V10 list of Parquet files\n",
    "gtex_files = [os.path.join(\"/standard/vol185/cphg_Manichaikul/projects/GTEx/GTEx_v10_TissueSpecific-eQTL/\", f) \n",
    "              for f in os.listdir(\"/standard/vol185/cphg_Manichaikul/projects/GTEx/GTEx_v10_TissueSpecific-eQTL/\") \n",
    "              if f.endswith(\".parquet\")]\n",
    "\n",
    "# topchef eQTLs\n",
    "chef_files = [os.path.join(\"/standard/vol185/cphg_Manichaikul/users/csm6hg/nextflow_dna/output/tensorqtl_nominal/\", f) \n",
    "              for f in os.listdir(\"/standard/vol185/cphg_Manichaikul/users/csm6hg/nextflow_dna/output/tensorqtl_nominal/\") \n",
    "              if f.endswith(\".parquet\")]\n",
    "\n",
    "# Find indices of files containing: heart\n",
    "heart_indices = [i for i, file in enumerate(gtex_files) if \"heart\" in file.lower()]\n",
    "heart_files = [gtex_files[i] for i in heart_indices]\n",
    "print(heart_indices)\n",
    "\n",
    "# TOPCHEF eQTLs - mapped using tensorqtl\n",
    "chef_df = pd.read_parquet(chef_files[1])\n",
    "chef_df = chef_df[chef_df[\"pval_nominal\"] < 1e-5]\n",
    "print(chef_df)\n",
    "\n",
    "# Load only the `variant_id` column\n",
    "r = list(filter(lambda item: \"Heart\" in item, gtex_files))\n",
    "gtex_df = pd.read_parquet(gtex_files[1])\n",
    "#gtex_df = gtex_df[gtex_df[\"pval_perm\"] < 0.05]\n",
    "print(gtex_df)"
   ]
  },
  {
   "cell_type": "code",
   "execution_count": null,
   "id": "bf34137c-c2a2-4312-973e-c55d600443ff",
   "metadata": {
    "tags": []
   },
   "outputs": [],
   "source": [
    "# GTEx ensure correct ID\n",
    "gtex_df = gtex_df.assign(\n",
    "    chrom=gtex_df['variant_id'].str.split(\"_\").str[0],\n",
    "    position=gtex_df['variant_id'].str.split(\"_\").str[1],\n",
    "    genei=gtex_df['gene_id'].str.split(\".\").str[0],\n",
    "    snp=lambda x: x['chrom'] + \":\" + x['position'] + \"_\" + x['genei'])\n",
    "\n",
    "# Chef dataset\n",
    "chef_df = chef_df.assign(\n",
    "    snp=lambda x: x['variant_id'] + \"_\" + x['phenotype_id'])\n",
    "    \n",
    "# Calculate proportion of variant IDs in GTEx SNPs\n",
    "prop_table = chef_df['snp'].isin(gtex_df['snp'])\n",
    "proportion = np.round(prop_table.value_counts(normalize=True)*100, 2)\n",
    "\n",
    "# Add overlap column\n",
    "chef_df['overlaps_gtex'] = chef_df['snp'].isin(gtex_df['snp'])\n",
    "gtex_df['gtex_tissue'] = os.path.basename(r[0]).split(\".\")[0]\n",
    "gtex_metrics = (gtex_df\n",
    "                .loc[:, ['snp', 'slope', 'slope_se', 'pval_perm', 'gtex_tissue']]\n",
    "                .rename(columns={'slope': 'gtex_slope',\n",
    "                                 'slope_se': 'gtex_slope_se',\n",
    "                                 'pval_perm': 'gtex_pval_perm'}))\n",
    "\n",
    "# Create new dataset w/gtex information\n",
    "chef_df1 = chef_df.merge(gtex_metrics, on='snp', how='left')\n",
    "print(chef_df1)\n",
    "\n",
    "# Output\n",
    "#chef_df1.to_csv(\"topchef_eqtl_maxPC70_gtex_lv.txt\", sep=\"\\t\")\n",
    "\n",
    "# Ensure both True and False proportions are present\n",
    "true_prop = proportion.get(True, 0.0)\n",
    "false_prop = proportion.get(False, 0.0)\n",
    "\n",
    "true_prop"
   ]
  }
 ],
 "metadata": {
  "kernelspec": {
   "display_name": "Python 3",
   "language": "python",
   "name": "python3"
  },
  "language_info": {
   "codemirror_mode": {
    "name": "ipython",
    "version": 3
   },
   "file_extension": ".py",
   "mimetype": "text/x-python",
   "name": "python",
   "nbconvert_exporter": "python",
   "pygments_lexer": "ipython3",
   "version": "3.11.4"
  },
  "toc-autonumbering": true
 },
 "nbformat": 4,
 "nbformat_minor": 5
}
